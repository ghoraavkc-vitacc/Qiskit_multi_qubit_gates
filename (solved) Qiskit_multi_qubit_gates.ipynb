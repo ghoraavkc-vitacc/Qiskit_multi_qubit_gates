{
  "nbformat": 4,
  "nbformat_minor": 0,
  "metadata": {
    "colab": {
      "provenance": []
    },
    "kernelspec": {
      "name": "python3",
      "display_name": "Python 3"
    },
    "language_info": {
      "name": "python"
    }
  },
  "cells": [
    {
      "cell_type": "code",
      "source": [
        "!pip install qiskit qiskit-aer --upgrade"
      ],
      "metadata": {
        "id": "Mx6284lurNt1",
        "colab": {
          "base_uri": "https://localhost:8080/"
        },
        "outputId": "2b3d8991-b9bb-42aa-f763-938d0e1515c6"
      },
      "execution_count": 1,
      "outputs": [
        {
          "output_type": "stream",
          "name": "stdout",
          "text": [
            "Collecting qiskit\n",
            "  Downloading qiskit-2.2.1-cp39-abi3-manylinux2014_x86_64.manylinux_2_17_x86_64.whl.metadata (12 kB)\n",
            "Collecting qiskit-aer\n",
            "  Downloading qiskit_aer-0.17.2-cp312-cp312-manylinux_2_17_x86_64.manylinux2014_x86_64.whl.metadata (8.3 kB)\n",
            "Collecting rustworkx>=0.15.0 (from qiskit)\n",
            "  Downloading rustworkx-0.17.1-cp39-abi3-manylinux_2_17_x86_64.manylinux2014_x86_64.whl.metadata (10 kB)\n",
            "Requirement already satisfied: numpy<3,>=1.17 in /usr/local/lib/python3.12/dist-packages (from qiskit) (2.0.2)\n",
            "Requirement already satisfied: scipy>=1.5 in /usr/local/lib/python3.12/dist-packages (from qiskit) (1.16.2)\n",
            "Requirement already satisfied: dill>=0.3 in /usr/local/lib/python3.12/dist-packages (from qiskit) (0.3.8)\n",
            "Collecting stevedore>=3.0.0 (from qiskit)\n",
            "  Downloading stevedore-5.5.0-py3-none-any.whl.metadata (2.2 kB)\n",
            "Requirement already satisfied: typing-extensions in /usr/local/lib/python3.12/dist-packages (from qiskit) (4.15.0)\n",
            "Requirement already satisfied: psutil>=5 in /usr/local/lib/python3.12/dist-packages (from qiskit-aer) (5.9.5)\n",
            "Requirement already satisfied: python-dateutil>=2.8.0 in /usr/local/lib/python3.12/dist-packages (from qiskit-aer) (2.9.0.post0)\n",
            "Requirement already satisfied: six>=1.5 in /usr/local/lib/python3.12/dist-packages (from python-dateutil>=2.8.0->qiskit-aer) (1.17.0)\n",
            "Downloading qiskit-2.2.1-cp39-abi3-manylinux2014_x86_64.manylinux_2_17_x86_64.whl (8.0 MB)\n",
            "\u001b[2K   \u001b[90m━━━━━━━━━━━━━━━━━━━━━━━━━━━━━━━━━━━━━━━━\u001b[0m \u001b[32m8.0/8.0 MB\u001b[0m \u001b[31m63.6 MB/s\u001b[0m eta \u001b[36m0:00:00\u001b[0m\n",
            "\u001b[?25hDownloading qiskit_aer-0.17.2-cp312-cp312-manylinux_2_17_x86_64.manylinux2014_x86_64.whl (12.4 MB)\n",
            "\u001b[2K   \u001b[90m━━━━━━━━━━━━━━━━━━━━━━━━━━━━━━━━━━━━━━━━\u001b[0m \u001b[32m12.4/12.4 MB\u001b[0m \u001b[31m69.8 MB/s\u001b[0m eta \u001b[36m0:00:00\u001b[0m\n",
            "\u001b[?25hDownloading rustworkx-0.17.1-cp39-abi3-manylinux_2_17_x86_64.manylinux2014_x86_64.whl (2.2 MB)\n",
            "\u001b[2K   \u001b[90m━━━━━━━━━━━━━━━━━━━━━━━━━━━━━━━━━━━━━━━━\u001b[0m \u001b[32m2.2/2.2 MB\u001b[0m \u001b[31m44.4 MB/s\u001b[0m eta \u001b[36m0:00:00\u001b[0m\n",
            "\u001b[?25hDownloading stevedore-5.5.0-py3-none-any.whl (49 kB)\n",
            "\u001b[2K   \u001b[90m━━━━━━━━━━━━━━━━━━━━━━━━━━━━━━━━━━━━━━━━\u001b[0m \u001b[32m49.5/49.5 kB\u001b[0m \u001b[31m2.0 MB/s\u001b[0m eta \u001b[36m0:00:00\u001b[0m\n",
            "\u001b[?25hInstalling collected packages: stevedore, rustworkx, qiskit, qiskit-aer\n",
            "Successfully installed qiskit-2.2.1 qiskit-aer-0.17.2 rustworkx-0.17.1 stevedore-5.5.0\n"
          ]
        }
      ]
    },
    {
      "cell_type": "code",
      "execution_count": 2,
      "metadata": {
        "id": "VPOwLacGrCdU",
        "colab": {
          "base_uri": "https://localhost:8080/"
        },
        "outputId": "0e8e8b24-53ab-4925-c42e-8dd5cee7030e"
      },
      "outputs": [
        {
          "output_type": "stream",
          "name": "stdout",
          "text": [
            "\n",
            "--- 1) Control/Target Variation ---\n",
            "        ┌───┐┌───┐       ░ ┌─┐   \n",
            "   q_0: ┤ H ├┤ X ├─■──X──░─┤M├───\n",
            "        └───┘└─┬─┘ │  │  ░ └╥┘┌─┐\n",
            "   q_1: ───────■───■──X──░──╫─┤M├\n",
            "                         ░  ║ └╥┘\n",
            "   c: 2/════════════════════╬══╬═\n",
            "                            ║  ║ \n",
            "meas: 2/════════════════════╩══╩═\n",
            "                            0  1 \n",
            "Measurement Counts: {'10 00': 515, '00 00': 509}\n",
            "Explanation: Changing control/target qubits changes how entanglement forms. In CNOT and CZ, control determines when the operation happens. Swapping them changes the correlation between qubits.\n",
            "\n",
            "--- 2) Removing the SWAP gate ---\n",
            "        ┌───┐         ░ ┌─┐   \n",
            "   q_0: ┤ H ├──■───■──░─┤M├───\n",
            "        └───┘┌─┴─┐ │  ░ └╥┘┌─┐\n",
            "   q_1: ─────┤ X ├─■──░──╫─┤M├\n",
            "             └───┘    ░  ║ └╥┘\n",
            "   c: 2/═════════════════╬══╬═\n",
            "                         ║  ║ \n",
            "meas: 2/═════════════════╩══╩═\n",
            "                         0  1 \n",
            "Measurement Counts: {'00 00': 538, '11 00': 486}\n",
            "Explanation: Removing SWAP keeps qubits in their original order. The SWAP gate exchanges qubit states, so without it, results are recorded in their initial register positions, changing which qubit’s value appears in which bit.\n",
            "\n",
            "--- 3) Adding Hadamard to second qubit before CNOT ---\n",
            "        ┌───┐            ░ ┌─┐   \n",
            "   q_0: ┤ H ├──■───■──X──░─┤M├───\n",
            "        ├───┤┌─┴─┐ │  │  ░ └╥┘┌─┐\n",
            "   q_1: ┤ H ├┤ X ├─■──X──░──╫─┤M├\n",
            "        └───┘└───┘       ░  ║ └╥┘\n",
            "   c: 2/════════════════════╬══╬═\n",
            "                            ║  ║ \n",
            "meas: 2/════════════════════╩══╩═\n",
            "                            0  1 \n",
            "Measurement Counts: {'00 00': 251, '01 00': 258, '10 00': 270, '11 00': 245}\n",
            "Explanation: Adding H to the second qubit puts it into superposition before entanglement. This increases the range of possible measurement outcomes because both qubits can now interfere.\n"
          ]
        }
      ],
      "source": [
        "from qiskit import QuantumCircuit, transpile\n",
        "from qiskit_aer import AerSimulator\n",
        "\n",
        "# Initialize simulator\n",
        "sim = AerSimulator()\n",
        "\n",
        "# ============================================================\n",
        "# 1) Control/Target Variation\n",
        "# ============================================================\n",
        "print(\"\\n--- 1) Control/Target Variation ---\")\n",
        "qc1 = QuantumCircuit(2, 2)\n",
        "\n",
        "qc1.h(0)\n",
        "qc1.cx(1, 0)   # swapped control and target\n",
        "qc1.cz(1, 0)   # swapped control and target\n",
        "qc1.swap(0, 1)\n",
        "qc1.measure_all()\n",
        "\n",
        "compiled1 = transpile(qc1, sim)\n",
        "result1 = sim.run(compiled1, shots=1024).result()\n",
        "counts1 = result1.get_counts()\n",
        "\n",
        "print(qc1.draw())\n",
        "print(\"Measurement Counts:\", counts1)\n",
        "print(\"Explanation: Changing control/target qubits changes how entanglement forms. \"\n",
        "      \"In CNOT and CZ, control determines when the operation happens. \"\n",
        "      \"Swapping them changes the correlation between qubits.\")\n",
        "\n",
        "# ============================================================\n",
        "# 2) Gate Removal (Remove SWAP)\n",
        "# ============================================================\n",
        "print(\"\\n--- 2) Removing the SWAP gate ---\")\n",
        "qc2 = QuantumCircuit(2, 2)\n",
        "\n",
        "qc2.h(0)\n",
        "qc2.cx(0, 1)\n",
        "qc2.cz(0, 1)\n",
        "# qc2.swap(0, 1)  # removed\n",
        "qc2.measure_all()\n",
        "\n",
        "compiled2 = transpile(qc2, sim)\n",
        "result2 = sim.run(compiled2, shots=1024).result()\n",
        "counts2 = result2.get_counts()\n",
        "\n",
        "print(qc2.draw())\n",
        "print(\"Measurement Counts:\", counts2)\n",
        "print(\"Explanation: Removing SWAP keeps qubits in their original order. \"\n",
        "      \"The SWAP gate exchanges qubit states, so without it, results are recorded \"\n",
        "      \"in their initial register positions, changing which qubit’s value appears in which bit.\")\n",
        "\n",
        "# ============================================================\n",
        "# 3) Add Another Hadamard (on second qubit before CNOT)\n",
        "# ============================================================\n",
        "print(\"\\n--- 3) Adding Hadamard to second qubit before CNOT ---\")\n",
        "qc3 = QuantumCircuit(2, 2)\n",
        "\n",
        "qc3.h(0)\n",
        "qc3.h(1)        # new Hadamard on qubit 1\n",
        "qc3.cx(0, 1)\n",
        "qc3.cz(0, 1)\n",
        "qc3.swap(0, 1)\n",
        "qc3.measure_all()\n",
        "\n",
        "compiled3 = transpile(qc3, sim)\n",
        "result3 = sim.run(compiled3, shots=1024).result()\n",
        "counts3 = result3.get_counts()\n",
        "\n",
        "print(qc3.draw())\n",
        "print(\"Measurement Counts:\", counts3)\n",
        "print(\"Explanation: Adding H to the second qubit puts it into superposition before entanglement. \"\n",
        "      \"This increases the range of possible measurement outcomes because both qubits can now interfere.\")\n",
        "\n"
      ]
    },
    {
      "cell_type": "code",
      "source": [],
      "metadata": {
        "id": "XXSzfpG9q7hc"
      },
      "execution_count": null,
      "outputs": []
    }
  ]
}